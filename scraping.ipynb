{
 "cells": [
  {
   "cell_type": "markdown",
   "metadata": {},
   "source": [
    "# Scraping Data"
   ]
  },
  {
   "cell_type": "code",
   "execution_count": 1,
   "metadata": {},
   "outputs": [
    {
     "name": "stdout",
     "output_type": "stream",
     "text": [
      "Scraping com.instagram.android Done! Data saved to com.instagram.android_reviews.csv\n"
     ]
    }
   ],
   "source": [
    "import pandas as pd\n",
    "from google_play_scraper import Sort, reviews_all\n",
    "\n",
    "# Scraping Google Play Store Reviews\n",
    "# app_id = [\"com.instagram.android\", \"com.twitter.android\", \"com.facebook.katana\", \"com.google.android.youtube\"]\n",
    "\n",
    "app_id = \"com.instagram.android\"\n",
    "\n",
    "# for app_id in app_ids:\n",
    "reviews_data = reviews_all(\n",
    "    app_id,\n",
    "    lang=\"id\",\n",
    "    country=\"id\",\n",
    "    sort=Sort.MOST_RELEVANT,\n",
    "    count=16000\n",
    ")\n",
    "\n",
    "\n",
    "df_reviews = pd.DataFrame(reviews_data)\n",
    "df_reviews = df_reviews.sample(n=16000, random_state=42)\n",
    "df_reviews.to_csv(f\"{app_id}_reviews.csv\", index=False)\n",
    "print(f\"Scraping {app_id} Done! Data saved to {app_id}_reviews.csv\")"
   ]
  },
  {
   "cell_type": "code",
   "execution_count": null,
   "metadata": {},
   "outputs": [],
   "source": []
  }
 ],
 "metadata": {
  "kernelspec": {
   "display_name": "Python 3",
   "language": "python",
   "name": "python3"
  },
  "language_info": {
   "codemirror_mode": {
    "name": "ipython",
    "version": 3
   },
   "file_extension": ".py",
   "mimetype": "text/x-python",
   "name": "python",
   "nbconvert_exporter": "python",
   "pygments_lexer": "ipython3",
   "version": "3.12.7"
  }
 },
 "nbformat": 4,
 "nbformat_minor": 2
}
